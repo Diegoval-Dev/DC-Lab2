{
 "cells": [
  {
   "cell_type": "markdown",
   "id": "76ec280c",
   "metadata": {},
   "source": [
    "# Laboratorio 02 – Series de Tiempo LSTM\n",
    "- **CC3084 – Data Science**, Semestre II 2025  \n",
    "- **Integrantes:** Diego Valenzuela 22309, Gerson Ramirez 22281\n",
    "- **Guatemala, Julio 2025**\n",
    "\n",
    "#### Repositorio:\n",
    "https://github.com/Diegoval-Dev/DC-Lab2\n",
    "\n",
    "#### Codebook Docs:\n",
    "https://docs.google.com/document/d/19wPL80Dss0d-sQldEt3_nUyNCderHo_rLaK94Q4Nuuc/edit?usp=sharing\n"
   ]
  },
  {
   "cell_type": "code",
   "execution_count": null,
   "id": "50d80b56",
   "metadata": {},
   "outputs": [],
   "source": [
    "#%pip install torch matplotlib pandas sklearn"
   ]
  },
  {
   "cell_type": "code",
   "execution_count": null,
   "id": "acd19317",
   "metadata": {},
   "outputs": [],
   "source": [
    "import pandas as pd\n",
    "import numpy as np\n",
    "import torch\n",
    "import torch.nn as nn\n",
    "from torch.utils.data import TensorDataset, DataLoader\n",
    "from sklearn.preprocessing import MinMaxScaler\n",
    "import matplotlib.pyplot as plt\n",
    "import torch\n",
    "import torch.nn as nn\n",
    "from torch.utils.data import TensorDataset, DataLoader\n",
    "\n",
    "# DATA GENERAL PARA CUALQUIERA\n",
    "df_imp = pd.read_csv('./data/importacion.csv', parse_dates=['fecha'], dayfirst=True)\n",
    "df_cons = pd.read_csv('./data/consumo.csv',    parse_dates=['fecha'], dayfirst=True)\n",
    "\n",
    "window_size = 12"
   ]
  },
  {
   "cell_type": "code",
   "execution_count": null,
   "id": "4d3654ff",
   "metadata": {},
   "outputs": [],
   "source": [
    "def create_dataset(series, window_size=12):\n",
    "    \"\"\"\n",
    "    series: array unidimensional de valores (numpy array)\n",
    "    window_size: número de pasos de tiempo para cada muestra X\n",
    "    Devuelve:\n",
    "      X: array de forma (n_samples, window_size, 1)\n",
    "      y: array de forma (n_samples, 1)\n",
    "    \"\"\"\n",
    "    X, y = [], []\n",
    "    for i in range(len(series) - window_size):\n",
    "        X.append(series[i : i + window_size])\n",
    "        y.append(series[i + window_size])\n",
    "    X = np.array(X).reshape(-1, window_size, 1)\n",
    "    y = np.array(y).reshape(-1, 1)\n",
    "    return X, y"
   ]
  },
  {
   "cell_type": "markdown",
   "id": "ca2f94d3",
   "metadata": {},
   "source": [
    "## Evaluación de Series de Tiempo"
   ]
  },
  {
   "cell_type": "markdown",
   "id": "6068a8b7",
   "metadata": {},
   "source": [
    "### Gasolina Regular Importaciones"
   ]
  },
  {
   "cell_type": "code",
   "execution_count": null,
   "id": "1f7d8993",
   "metadata": {},
   "outputs": [],
   "source": [
    "ts_ir = df_imp.set_index('fecha')['gasolina regular'] \\\n",
    "           .resample('M').mean().dropna()\n",
    "\n",
    "print(f\"Regular_imp — Inicio: {ts_ir.index.min().date()}, Fin: {ts_ir.index.max().date()}, Frecuencia: Mensual\")\n",
    "\n",
    "plt.figure(figsize=(10,3))\n",
    "plt.plot(ts_ir, color='tab:blue')\n",
    "plt.title('Gasolina Regular – Importación')\n",
    "plt.show()\n",
    "\n",
    "values_ir = ts_ir.values"
   ]
  },
  {
   "cell_type": "markdown",
   "id": "e9aee128",
   "metadata": {},
   "source": [
    "### Gasolina Regular Consumos"
   ]
  },
  {
   "cell_type": "code",
   "execution_count": null,
   "id": "0178ebf8",
   "metadata": {},
   "outputs": [],
   "source": [
    "ts_cr = df_cons.set_index('fecha')['gasolina regular'] \\\n",
    "           .resample('M').mean().dropna()\n",
    "\n",
    "print(f\"Regular_cons — Inicio: {ts_cr.index.min().date()}, Fin: {ts_cr.index.max().date()}, Frecuencia: Mensual\")\n",
    "\n",
    "plt.figure(figsize=(10,3))\n",
    "plt.plot(ts_cr, color='tab:green')\n",
    "plt.title('Gasolina Regular – Consumo')\n",
    "plt.show()\n",
    "\n",
    "values_cr = ts_cr.values"
   ]
  },
  {
   "cell_type": "markdown",
   "id": "72409918",
   "metadata": {},
   "source": [
    "### Gasolina Superior Importaciones"
   ]
  },
  {
   "cell_type": "code",
   "execution_count": null,
   "id": "9b6d1aea",
   "metadata": {},
   "outputs": [],
   "source": [
    "ts_cr = df_imp.set_index('fecha')['gasolina superior'] \\\n",
    "           .resample('M').mean().dropna()\n",
    "\n",
    "print(f\"Superior_imp — Inicio: {ts_cr.index.min().date()}, Fin: {ts_cr.index.max().date()}, Frecuencia: Mensual\")\n",
    "\n",
    "plt.figure(figsize=(10,3))\n",
    "plt.plot(ts_cr, color='tab:green')\n",
    "plt.title('Gasolina Superior – Importación')\n",
    "plt.show()\n",
    "\n",
    "values_cr = ts_cr.values"
   ]
  },
  {
   "cell_type": "markdown",
   "id": "2d4d8433",
   "metadata": {},
   "source": [
    "### Diesel Importacion"
   ]
  },
  {
   "cell_type": "code",
   "execution_count": null,
   "id": "bcf9c4dd",
   "metadata": {},
   "outputs": [],
   "source": [
    "ts_cr = df_imp.set_index('fecha')['diesel'] \\\n",
    "           .resample('M').mean().dropna()\n",
    "\n",
    "print(f\"Diesel_imp — Inicio: {ts_cr.index.min().date()}, Fin: {ts_cr.index.max().date()}, Frecuencia: Mensual\")\n",
    "\n",
    "plt.figure(figsize=(10,3))\n",
    "plt.plot(ts_cr, color='tab:green')\n",
    "plt.title('Diesel – Importación')\n",
    "plt.show()\n",
    "\n",
    "values_cr = ts_cr.values"
   ]
  },
  {
   "cell_type": "markdown",
   "id": "993a1414",
   "metadata": {},
   "source": [
    "### Gasolina Superior Consumo"
   ]
  },
  {
   "cell_type": "code",
   "execution_count": null,
   "id": "21bb9ca7",
   "metadata": {},
   "outputs": [],
   "source": [
    "ts_cr = df_cons.set_index('fecha')['gasolina superior'] \\\n",
    "           .resample('M').mean().dropna()\n",
    "\n",
    "print(f\"Superior_cons — Inicio: {ts_cr.index.min().date()}, Fin: {ts_cr.index.max().date()}, Frecuencia: Mensual\")\n",
    "\n",
    "plt.figure(figsize=(10,3))\n",
    "plt.plot(ts_cr, color='tab:green')\n",
    "plt.title('Gasolina Superior – Consumo')\n",
    "plt.show()\n",
    "\n",
    "values_cr = ts_cr.values"
   ]
  },
  {
   "cell_type": "markdown",
   "id": "f93ea287",
   "metadata": {},
   "source": [
    "### Diesel Consumo"
   ]
  },
  {
   "cell_type": "code",
   "execution_count": null,
   "id": "8e8b8f40",
   "metadata": {},
   "outputs": [],
   "source": [
    "ts_cr = df_cons.set_index('fecha')['diesel bajo azufre'] \\\n",
    "           .resample('M').mean().dropna()\n",
    "\n",
    "print(f\"Diesel_cons — Inicio: {ts_cr.index.min().date()}, Fin: {ts_cr.index.max().date()}, Frecuencia: Mensual\")\n",
    "\n",
    "plt.figure(figsize=(10,3))\n",
    "plt.plot(ts_cr, color='tab:green')\n",
    "plt.title('Diesel – Consumo')\n",
    "plt.show()\n",
    "\n",
    "values_cr = ts_cr.values"
   ]
  },
  {
   "cell_type": "markdown",
   "id": "049ca263",
   "metadata": {},
   "source": [
    "### Preparación de Datos - Gasolina Regular Importaciones"
   ]
  },
  {
   "cell_type": "code",
   "execution_count": null,
   "id": "a46877e1",
   "metadata": {},
   "outputs": [],
   "source": [
    "# Crear dataset para Gasolina Regular Importaciones\n",
    "X_ir, y_ir = create_dataset(values_ir, window_size)\n",
    "print(f\"IR → X_ir: {X_ir.shape}, y_ir: {y_ir.shape}\")\n",
    "\n",
    "# División train/test para IR\n",
    "train_end = '2023-12-31'\n",
    "test_start = '2024-01-31'\n",
    "\n",
    "train_ts_ir = ts_ir[:train_end]\n",
    "test_ts_ir = ts_ir[test_start:]\n",
    "\n",
    "print(f\"Train IR tiene {len(train_ts_ir)} puntos, Test IR tiene {len(test_ts_ir)}\")\n",
    "print(f\"IR train rango: {train_ts_ir.index[0].date()} – {train_ts_ir.index[-1].date()}\")\n",
    "\n",
    "# Recrear dataset con datos de entrenamiento únicamente\n",
    "X_ir, y_ir = create_dataset(train_ts_ir.values, window_size)\n",
    "print(f\"Después de split y ventanas → IR: X={X_ir.shape}, y={y_ir.shape}\")"
   ]
  },
  {
   "cell_type": "markdown",
   "id": "ce1180a4",
   "metadata": {},
   "source": [
    "### Preparación de Datos - Gasolina Regular Consumos"
   ]
  },
  {
   "cell_type": "code",
   "execution_count": null,
   "id": "5f306474",
   "metadata": {},
   "outputs": [],
   "source": [
    "# Crear dataset para Gasolina Regular Consumos\n",
    "X_cr, y_cr = create_dataset(values_cr, window_size)\n",
    "print(f\"CR → X_cr: {X_cr.shape}, y_cr: {y_cr.shape}\")\n",
    "\n",
    "# División train/test para CR\n",
    "train_ts_cr = ts_cr[:train_end]\n",
    "test_ts_cr = ts_cr[test_start:]\n",
    "\n",
    "print(f\"Train CR tiene {len(train_ts_cr)} puntos, Test CR tiene {len(test_ts_cr)}\")\n",
    "print(f\"CR train rango: {train_ts_cr.index[0].date()} – {train_ts_cr.index[-1].date()}\")\n",
    "\n",
    "# Recrear dataset con datos de entrenamiento únicamente\n",
    "X_cr, y_cr = create_dataset(train_ts_cr.values, window_size)\n",
    "print(f\"Después de split y ventanas → CR: X={X_cr.shape}, y={y_cr.shape}\")"
   ]
  },
  {
   "cell_type": "markdown",
   "id": "f0450c2b",
   "metadata": {},
   "source": [
    "## Entrenamiento LSTM - Gasolina Regular Importaciones"
   ]
  },
  {
   "cell_type": "code",
   "execution_count": null,
   "id": "b4e42d10",
   "metadata": {},
   "outputs": [],
   "source": [
    "device = torch.device('cuda' if torch.cuda.is_available() else 'cpu')\n",
    "print(f\"Usando dispositivo: {device}\")\n",
    "\n",
    "# Preparar datos para PyTorch - IR\n",
    "tensor_X_ir = torch.tensor(X_ir, dtype=torch.float32).to(device)\n",
    "tensor_y_ir = torch.tensor(y_ir, dtype=torch.float32).to(device)\n",
    "\n",
    "batch_size = 16\n",
    "loader_ir = DataLoader(TensorDataset(tensor_X_ir, tensor_y_ir),\n",
    "                       batch_size=batch_size, shuffle=True)\n",
    "\n",
    "# Definir modelo LSTM\n",
    "class LSTMModel(nn.Module):\n",
    "    def __init__(self, hidden_size, dropout):\n",
    "        super().__init__()\n",
    "        self.lstm = nn.LSTM(1, hidden_size, batch_first=True, dropout=dropout)\n",
    "        self.linear = nn.Linear(hidden_size, 1)\n",
    "    def forward(self, x):\n",
    "        out, _ = self.lstm(x)\n",
    "        return self.linear(out[:, -1, :])\n",
    "\n",
    "# Crear modelo y optimizador para IR\n",
    "model_ir = LSTMModel(hidden_size=32, dropout=0.2).to(device)\n",
    "criterion = nn.MSELoss()\n",
    "opt_ir = torch.optim.Adam(model_ir.parameters(), lr=1e-3)\n",
    "\n",
    "# Función de entrenamiento\n",
    "def train_model(model, optimizer, loader, epochs=50):\n",
    "    model.train()\n",
    "    history = []\n",
    "    for epoch in range(1, epochs+1):\n",
    "        epoch_loss = 0.0\n",
    "        for xb, yb in loader:\n",
    "            optimizer.zero_grad()\n",
    "            preds = model(xb)\n",
    "            loss = criterion(preds, yb)\n",
    "            loss.backward()\n",
    "            optimizer.step()\n",
    "            epoch_loss += loss.item() * xb.size(0)\n",
    "        avg = epoch_loss / len(loader.dataset)\n",
    "        history.append(avg)\n",
    "        if epoch % 10 == 0:\n",
    "            print(f\"Epoch {epoch}, Loss: {avg:.6f}\")\n",
    "    return history\n",
    "\n",
    "# Entrenar modelo IR\n",
    "print(\"Entrenando modelo para Gasolina Regular Importaciones...\")\n",
    "history_ir = train_model(model_ir, opt_ir, loader_ir, epochs=50)\n",
    "\n",
    "# Visualizar pérdida\n",
    "plt.figure(figsize=(8,4))\n",
    "plt.plot(history_ir, label='Pérdida IR')\n",
    "plt.title('Entrenamiento IR (PyTorch)')\n",
    "plt.xlabel('Época')\n",
    "plt.ylabel('MSE Loss')\n",
    "plt.legend()\n",
    "plt.show()"
   ]
  },
  {
   "cell_type": "markdown",
   "id": "2bceea95",
   "metadata": {},
   "source": [
    "### Hyperparameter Tuning - IR"
   ]
  },
  {
   "cell_type": "code",
   "execution_count": null,
   "id": "9feb41d0",
   "metadata": {},
   "outputs": [],
   "source": [
    "\n",
    "# Parámetros a probar para IR\n",
    "hidden_sizes = [16, 32, 64]\n",
    "dropouts = [0.1, 0.2, 0.3]\n",
    "lrs = [1e-3, 1e-4]\n",
    "epochs_tune = 20\n",
    "\n",
    "def tune_lstm_ir(hidden_size, dropout, lr):\n",
    "    \"\"\"Función para hacer tuning específico para IR\"\"\"\n",
    "    model = LSTMModel(hidden_size=hidden_size, dropout=dropout).to(device)\n",
    "    opt = torch.optim.Adam(model.parameters(), lr=lr)\n",
    "    \n",
    "    model.train()\n",
    "    for _ in range(epochs_tune):\n",
    "        for xb, yb in loader_ir:\n",
    "            opt.zero_grad()\n",
    "            loss = criterion(model(xb), yb)\n",
    "            loss.backward()\n",
    "            opt.step()\n",
    "    \n",
    "    # Evaluar en todo el conjunto\n",
    "    model.eval()\n",
    "    with torch.no_grad():\n",
    "        preds = model(tensor_X_ir)\n",
    "        final_loss = criterion(preds, tensor_y_ir).item()\n",
    "    return final_loss\n",
    "\n",
    "# Realizar tuning para IR\n",
    "print(\"Realizando hyperparameter tuning para IR...\")\n",
    "results_ir = []\n",
    "for hs in hidden_sizes:\n",
    "    for dp in dropouts:\n",
    "        for lr in lrs:\n",
    "            loss = tune_lstm_ir(hs, dp, lr)\n",
    "            results_ir.append({\n",
    "                'hidden_size': hs,\n",
    "                'dropout': dp,\n",
    "                'lr': lr,\n",
    "                'loss': loss\n",
    "            })\n",
    "            print(f\"IR | hs={hs}, dp={dp}, lr={lr} → loss={loss:.2e}\")\n",
    "\n",
    "df_results_ir = pd.DataFrame(results_ir).sort_values('loss')\n",
    "print(\"\\nMejores hiperparámetros para IR:\")\n",
    "display(df_results_ir.head())"
   ]
  },
  {
   "cell_type": "markdown",
   "id": "b1a41d1b",
   "metadata": {},
   "source": [
    "## Entrenamiento LSTM - Gasolina Regular Consumos"
   ]
  },
  {
   "cell_type": "code",
   "execution_count": null,
   "id": "40f3530d",
   "metadata": {},
   "outputs": [],
   "source": [
    "# Preparar datos para PyTorch - CR\n",
    "tensor_X_cr = torch.tensor(X_cr, dtype=torch.float32).to(device)\n",
    "tensor_y_cr = torch.tensor(y_cr, dtype=torch.float32).to(device)\n",
    "\n",
    "loader_cr = DataLoader(TensorDataset(tensor_X_cr, tensor_y_cr),\n",
    "                       batch_size=batch_size, shuffle=True)\n",
    "\n",
    "# Crear modelo y optimizador para CR\n",
    "model_cr = LSTMModel(hidden_size=32, dropout=0.2).to(device)\n",
    "opt_cr = torch.optim.Adam(model_cr.parameters(), lr=1e-3)\n",
    "\n",
    "# Entrenar modelo CR\n",
    "print(\"Entrenando modelo para Gasolina Regular Consumos...\")\n",
    "history_cr = train_model(model_cr, opt_cr, loader_cr, epochs=50)\n",
    "\n",
    "# Visualizar pérdida\n",
    "plt.figure(figsize=(8,4))\n",
    "plt.plot(history_cr, label='Pérdida CR')\n",
    "plt.title('Entrenamiento CR (PyTorch)')\n",
    "plt.xlabel('Época')\n",
    "plt.ylabel('MSE Loss')\n",
    "plt.legend()\n",
    "plt.show()"
   ]
  },
  {
   "cell_type": "markdown",
   "id": "a99b0854",
   "metadata": {},
   "source": [
    "### Hyperparameter Tuning - CR"
   ]
  },
  {
   "cell_type": "code",
   "execution_count": null,
   "id": "ed4dff73",
   "metadata": {},
   "outputs": [],
   "source": [
    "def tune_lstm_cr(hidden_size, dropout, lr):\n",
    "    \"\"\"Función para hacer tuning específico para CR\"\"\"\n",
    "    model = LSTMModel(hidden_size=hidden_size, dropout=dropout).to(device)\n",
    "    opt = torch.optim.Adam(model.parameters(), lr=lr)\n",
    "    \n",
    "    model.train()\n",
    "    for _ in range(epochs_tune):\n",
    "        for xb, yb in loader_cr:\n",
    "            opt.zero_grad()\n",
    "            loss = criterion(model(xb), yb)\n",
    "            loss.backward()\n",
    "            opt.step()\n",
    "    \n",
    "    # Evaluar en todo el conjunto\n",
    "    model.eval()\n",
    "    with torch.no_grad():\n",
    "        preds = model(tensor_X_cr)\n",
    "        final_loss = criterion(preds, tensor_y_cr).item()\n",
    "    return final_loss\n",
    "\n",
    "# Realizar tuning para CR\n",
    "print(\"Realizando hyperparameter tuning para CR...\")\n",
    "results_cr = []\n",
    "for hs in hidden_sizes:\n",
    "    for dp in dropouts:\n",
    "        for lr in lrs:\n",
    "            loss = tune_lstm_cr(hs, dp, lr)\n",
    "            results_cr.append({\n",
    "                'hidden_size': hs,\n",
    "                'dropout': dp,\n",
    "                'lr': lr,\n",
    "                'loss': loss\n",
    "            })\n",
    "            print(f\"CR | hs={hs}, dp={dp}, lr={lr} → loss={loss:.2e}\")\n",
    "\n",
    "df_results_cr = pd.DataFrame(results_cr).sort_values('loss')\n",
    "print(\"\\nMejores hiperparámetros para CR:\")\n",
    "display(df_results_cr.head())"
   ]
  },
  {
   "cell_type": "markdown",
   "id": "fda7f6b4",
   "metadata": {},
   "source": [
    "## Entrenamiento LSTM – Gasolina Superior Importaciones"
   ]
  },
  {
   "cell_type": "code",
   "execution_count": null,
   "id": "480c4ba6",
   "metadata": {},
   "outputs": [],
   "source": [
    "ts_gs_imp = df_imp.set_index('fecha')['gasolina superior'] \\\n",
    "                  .resample('M').mean().dropna()\n",
    "\n",
    "train_gs_imp = ts_gs_imp[:'2023-12-31']\n",
    "test_gs_imp  = ts_gs_imp['2024-01-31':]\n",
    "\n",
    "window_size = 12\n",
    "X_gs_imp, y_gs_imp = create_dataset(train_gs_imp.values, window_size)\n",
    "\n",
    "device = torch.device('cuda' if torch.cuda.is_available() else 'cpu')\n",
    "tensor_X_gs_imp = torch.tensor(X_gs_imp, dtype=torch.float32).to(device)\n",
    "tensor_y_gs_imp = torch.tensor(y_gs_imp, dtype=torch.float32).to(device)\n",
    "\n",
    "batch_size = 16\n",
    "loader_gs_imp = DataLoader(\n",
    "    TensorDataset(tensor_X_gs_imp, tensor_y_gs_imp),\n",
    "    batch_size=batch_size,\n",
    "    shuffle=True\n",
    ")\n",
    "\n",
    "model_gs_imp = LSTMModel(hidden_size=32, dropout=0.2).to(device)\n",
    "criterion    = nn.MSELoss()\n",
    "opt_gs_imp   = torch.optim.Adam(model_gs_imp.parameters(), lr=1e-3)\n",
    "\n",
    "\n",
    "def train_model(model, optimizer, loader, epochs=50):\n",
    "    model.train()\n",
    "    history = []\n",
    "    for epoch in range(1, epochs+1):\n",
    "        epoch_loss = 0.0\n",
    "        for xb, yb in loader:\n",
    "            optimizer.zero_grad()\n",
    "            preds = model(xb)\n",
    "            loss = criterion(preds, yb)\n",
    "            loss.backward()\n",
    "            optimizer.step()\n",
    "            epoch_loss += loss.item() * xb.size(0)\n",
    "        avg = epoch_loss / len(loader.dataset)\n",
    "        history.append(avg)\n",
    "        if epoch % 10 == 0:\n",
    "            print(f\"Epoch {epoch}, Loss: {avg:.6f}\")\n",
    "    return history\n",
    "\n",
    "print(\"Entrenando LSTM para Gasolina Superior Importaciones…\")\n",
    "history_gs_imp = train_model(model_gs_imp, opt_gs_imp, loader_gs_imp, epochs=50)\n",
    "\n",
    "plt.figure(figsize=(8,4))\n",
    "plt.plot(history_gs_imp, label='Pérdida GS Imp')\n",
    "plt.title('Entrenamiento LSTM – Gasolina Superior Importaciones')\n",
    "plt.xlabel('Época')\n",
    "plt.ylabel('MSE Loss')\n",
    "plt.legend()\n",
    "plt.show()"
   ]
  },
  {
   "cell_type": "markdown",
   "id": "8e434c0f",
   "metadata": {},
   "source": [
    "### Hyperparameter Tuning – Gasolina Superior Importaciones\n"
   ]
  },
  {
   "cell_type": "code",
   "execution_count": null,
   "id": "747abdfd",
   "metadata": {},
   "outputs": [],
   "source": [
    "hidden_sizes = [16, 32, 64]\n",
    "dropouts     = [0.1, 0.2, 0.3]\n",
    "lrs          = [1e-3, 1e-4]\n",
    "epochs_tune  = 20\n",
    "\n",
    "def tune_lstm_gs_imp(hidden_size, dropout, lr):\n",
    "    model = LSTMModel(hidden_size=hidden_size, dropout=dropout).to(device)\n",
    "    opt   = torch.optim.Adam(model.parameters(), lr=lr)\n",
    "    model.train()\n",
    "    for _ in range(epochs_tune):\n",
    "        for xb, yb in loader_gs_imp:\n",
    "            opt.zero_grad()\n",
    "            loss = criterion(model(xb), yb)\n",
    "            loss.backward()\n",
    "            opt.step()\n",
    "    model.eval()\n",
    "    with torch.no_grad():\n",
    "        preds = model(tensor_X_gs_imp)\n",
    "        return criterion(preds, tensor_y_gs_imp).item()\n",
    "\n",
    "print(\"Realizando hyperparameter tuning para GS Importaciones…\")\n",
    "results_gs_imp = []\n",
    "for hs in hidden_sizes:\n",
    "    for dp in dropouts:\n",
    "        for lr in lrs:\n",
    "            loss = tune_lstm_gs_imp(hs, dp, lr)\n",
    "            results_gs_imp.append({\n",
    "                'hidden_size': hs,\n",
    "                'dropout': dp,\n",
    "                'lr': lr,\n",
    "                'loss': loss\n",
    "            })\n",
    "            print(f\"GS Imp | hs={hs}, dp={dp}, lr={lr} → loss={loss:.2e}\")\n",
    "\n",
    "df_results_gs_imp = pd.DataFrame(results_gs_imp).sort_values('loss')\n",
    "print(\"\\nMejores hiperparámetros para GS Importaciones:\")\n",
    "display(df_results_gs_imp.head())"
   ]
  },
  {
   "cell_type": "markdown",
   "id": "8352e24e",
   "metadata": {},
   "source": [
    "## Entrenamiento LSTM – Diésel Importaciones"
   ]
  },
  {
   "cell_type": "code",
   "execution_count": 27,
   "id": "d5ccb800",
   "metadata": {},
   "outputs": [
    {
     "name": "stderr",
     "output_type": "stream",
     "text": [
      "c:\\Users\\diego\\AppData\\Local\\Programs\\Python\\Python312\\Lib\\site-packages\\torch\\nn\\modules\\rnn.py:123: UserWarning: dropout option adds dropout after all but last recurrent layer, so non-zero dropout expects num_layers greater than 1, but got dropout=0.2 and num_layers=1\n",
      "  warnings.warn(\n"
     ]
    },
    {
     "name": "stdout",
     "output_type": "stream",
     "text": [
      "Entrenando LSTM para Diésel Importaciones…\n",
      "Epoch 10, Loss: 1142698409984.000000\n",
      "Epoch 20, Loss: 1142698147840.000000\n",
      "Epoch 30, Loss: 1142697885696.000000\n",
      "Epoch 40, Loss: 1142697754624.000000\n",
      "Epoch 50, Loss: 1142697361408.000000\n"
     ]
    },
    {
     "data": {
      "image/png": "[encoded data removed]",
      "text/plain": [
       "<Figure size 800x400 with 1 Axes>"
      ]
     },
     "metadata": {},
     "output_type": "display_data"
    }
   ],
   "source": [
    "ts_di_imp = df_imp.set_index('fecha')['diesel'] \\\n",
    "                  .resample('M').mean().dropna()\n",
    "\n",
    "train_di_imp = ts_di_imp[:'2023-12-31']\n",
    "test_di_imp  = ts_di_imp['2024-01-31':]\n",
    "\n",
    "window_size = 12\n",
    "X_di_imp, y_di_imp = create_dataset(train_di_imp.values, window_size)\n",
    "\n",
    "device = torch.device('cuda' if torch.cuda.is_available() else 'cpu')\n",
    "tensor_X_di_imp = torch.tensor(X_di_imp, dtype=torch.float32).to(device)\n",
    "tensor_y_di_imp = torch.tensor(y_di_imp, dtype=torch.float32).to(device)\n",
    "\n",
    "batch_size = 16\n",
    "loader_di_imp = DataLoader(\n",
    "    TensorDataset(tensor_X_di_imp, tensor_y_di_imp),\n",
    "    batch_size=batch_size,\n",
    "    shuffle=True\n",
    ")\n",
    "\n",
    "model_di_imp = LSTMModel(hidden_size=32, dropout=0.2).to(device)\n",
    "criterion    = nn.MSELoss()\n",
    "opt_di_imp   = torch.optim.Adam(model_di_imp.parameters(), lr=1e-3)\n",
    "\n",
    "def train_model(model, optimizer, loader, epochs=50):\n",
    "    model.train()\n",
    "    history = []\n",
    "    for epoch in range(1, epochs+1):\n",
    "        epoch_loss = 0.0\n",
    "        for xb, yb in loader:\n",
    "            optimizer.zero_grad()\n",
    "            preds = model(xb)\n",
    "            loss = criterion(preds, yb)\n",
    "            loss.backward()\n",
    "            optimizer.step()\n",
    "            epoch_loss += loss.item() * xb.size(0)\n",
    "        avg = epoch_loss / len(loader.dataset)\n",
    "        history.append(avg)\n",
    "        if epoch % 10 == 0:\n",
    "            print(f\"Epoch {epoch}, Loss: {avg:.6f}\")\n",
    "    return history\n",
    "\n",
    "print(\"Entrenando LSTM para Diésel Importaciones…\")\n",
    "history_di_imp = train_model(model_di_imp, opt_di_imp, loader_di_imp, epochs=50)\n",
    "\n",
    "plt.figure(figsize=(8,4))\n",
    "plt.plot(history_di_imp, label='Pérdida Diésel Imp')\n",
    "plt.title('Entrenamiento LSTM – Diésel Importaciones')\n",
    "plt.xlabel('Época')\n",
    "plt.ylabel('MSE Loss')\n",
    "plt.legend()\n",
    "plt.show()"
   ]
  },
  {
   "cell_type": "markdown",
   "id": "31c4bbdc",
   "metadata": {},
   "source": [
    "### Hyperparameter Tuning – Diésel Importaciones"
   ]
  },
  {
   "cell_type": "code",
   "execution_count": 28,
   "id": "a8002fd9",
   "metadata": {},
   "outputs": [
    {
     "name": "stdout",
     "output_type": "stream",
     "text": [
      "Realizando hyperparameter tuning para Diésel Importaciones…\n",
      "Diésel Imp | hs=16, dp=0.1, lr=0.001 → loss=1.14e+12\n"
     ]
    },
    {
     "name": "stderr",
     "output_type": "stream",
     "text": [
      "c:\\Users\\diego\\AppData\\Local\\Programs\\Python\\Python312\\Lib\\site-packages\\torch\\nn\\modules\\rnn.py:123: UserWarning: dropout option adds dropout after all but last recurrent layer, so non-zero dropout expects num_layers greater than 1, but got dropout=0.1 and num_layers=1\n",
      "  warnings.warn(\n"
     ]
    },
    {
     "name": "stdout",
     "output_type": "stream",
     "text": [
      "Diésel Imp | hs=16, dp=0.1, lr=0.0001 → loss=1.14e+12\n",
      "Diésel Imp | hs=16, dp=0.2, lr=0.001 → loss=1.14e+12\n",
      "Diésel Imp | hs=16, dp=0.2, lr=0.0001 → loss=1.14e+12\n",
      "Diésel Imp | hs=16, dp=0.3, lr=0.001 → loss=1.14e+12\n"
     ]
    },
    {
     "name": "stderr",
     "output_type": "stream",
     "text": [
      "c:\\Users\\diego\\AppData\\Local\\Programs\\Python\\Python312\\Lib\\site-packages\\torch\\nn\\modules\\rnn.py:123: UserWarning: dropout option adds dropout after all but last recurrent layer, so non-zero dropout expects num_layers greater than 1, but got dropout=0.3 and num_layers=1\n",
      "  warnings.warn(\n"
     ]
    },
    {
     "name": "stdout",
     "output_type": "stream",
     "text": [
      "Diésel Imp | hs=16, dp=0.3, lr=0.0001 → loss=1.14e+12\n",
      "Diésel Imp | hs=32, dp=0.1, lr=0.001 → loss=1.14e+12\n",
      "Diésel Imp | hs=32, dp=0.1, lr=0.0001 → loss=1.14e+12\n",
      "Diésel Imp | hs=32, dp=0.2, lr=0.001 → loss=1.14e+12\n",
      "Diésel Imp | hs=32, dp=0.2, lr=0.0001 → loss=1.14e+12\n",
      "Diésel Imp | hs=32, dp=0.3, lr=0.001 → loss=1.14e+12\n",
      "Diésel Imp | hs=32, dp=0.3, lr=0.0001 → loss=1.14e+12\n",
      "Diésel Imp | hs=64, dp=0.1, lr=0.001 → loss=1.14e+12\n",
      "Diésel Imp | hs=64, dp=0.1, lr=0.0001 → loss=1.14e+12\n",
      "Diésel Imp | hs=64, dp=0.2, lr=0.001 → loss=1.14e+12\n",
      "Diésel Imp | hs=64, dp=0.2, lr=0.0001 → loss=1.14e+12\n",
      "Diésel Imp | hs=64, dp=0.3, lr=0.001 → loss=1.14e+12\n",
      "Diésel Imp | hs=64, dp=0.3, lr=0.0001 → loss=1.14e+12\n",
      "\n",
      "Mejores hiperparámetros para Diésel Importaciones:\n"
     ]
    },
    {
     "data": {
      "text/html": [
       "<div>\n",
       "<style scoped>\n",
       "    .dataframe tbody tr th:only-of-type {\n",
       "        vertical-align: middle;\n",
       "    }\n",
       "\n",
       "    .dataframe tbody tr th {\n",
       "        vertical-align: top;\n",
       "    }\n",
       "\n",
       "    .dataframe thead th {\n",
       "        text-align: right;\n",
       "    }\n",
       "</style>\n",
       "<table border=\"1\" class=\"dataframe\">\n",
       "  <thead>\n",
       "    <tr style=\"text-align: right;\">\n",
       "      <th></th>\n",
       "      <th>hidden_size</th>\n",
       "      <th>dropout</th>\n",
       "      <th>lr</th>\n",
       "      <th>loss</th>\n",
       "    </tr>\n",
       "  </thead>\n",
       "  <tbody>\n",
       "    <tr>\n",
       "      <th>0</th>\n",
       "      <td>16</td>\n",
       "      <td>0.1</td>\n",
       "      <td>0.0010</td>\n",
       "      <td>1.142698e+12</td>\n",
       "    </tr>\n",
       "    <tr>\n",
       "      <th>3</th>\n",
       "      <td>16</td>\n",
       "      <td>0.2</td>\n",
       "      <td>0.0001</td>\n",
       "      <td>1.142698e+12</td>\n",
       "    </tr>\n",
       "    <tr>\n",
       "      <th>16</th>\n",
       "      <td>64</td>\n",
       "      <td>0.3</td>\n",
       "      <td>0.0010</td>\n",
       "      <td>1.142698e+12</td>\n",
       "    </tr>\n",
       "    <tr>\n",
       "      <th>14</th>\n",
       "      <td>64</td>\n",
       "      <td>0.2</td>\n",
       "      <td>0.0010</td>\n",
       "      <td>1.142698e+12</td>\n",
       "    </tr>\n",
       "    <tr>\n",
       "      <th>12</th>\n",
       "      <td>64</td>\n",
       "      <td>0.1</td>\n",
       "      <td>0.0010</td>\n",
       "      <td>1.142698e+12</td>\n",
       "    </tr>\n",
       "  </tbody>\n",
       "</table>\n",
       "</div>"
      ],
      "text/plain": [
       "    hidden_size  dropout      lr          loss\n",
       "0            16      0.1  0.0010  1.142698e+12\n",
       "3            16      0.2  0.0001  1.142698e+12\n",
       "16           64      0.3  0.0010  1.142698e+12\n",
       "14           64      0.2  0.0010  1.142698e+12\n",
       "12           64      0.1  0.0010  1.142698e+12"
      ]
     },
     "metadata": {},
     "output_type": "display_data"
    }
   ],
   "source": [
    "hidden_sizes = [16, 32, 64]\n",
    "dropouts     = [0.1, 0.2, 0.3]\n",
    "lrs          = [1e-3, 1e-4]\n",
    "epochs_tune  = 20\n",
    "\n",
    "def tune_lstm_di_imp(hidden_size, dropout, lr):\n",
    "    model = LSTMModel(hidden_size=hidden_size, dropout=dropout).to(device)\n",
    "    opt   = torch.optim.Adam(model.parameters(), lr=lr)\n",
    "    model.train()\n",
    "    for _ in range(epochs_tune):\n",
    "        for xb, yb in loader_di_imp:\n",
    "            opt.zero_grad()\n",
    "            loss = criterion(model(xb), yb)\n",
    "            loss.backward()\n",
    "            opt.step()\n",
    "    model.eval()\n",
    "    with torch.no_grad():\n",
    "        preds = model(tensor_X_di_imp)\n",
    "        return criterion(preds, tensor_y_di_imp).item()\n",
    "\n",
    "print(\"Realizando hyperparameter tuning para Diésel Importaciones…\")\n",
    "results_di_imp = []\n",
    "for hs in hidden_sizes:\n",
    "    for dp in dropouts:\n",
    "        for lr in lrs:\n",
    "            loss = tune_lstm_di_imp(hs, dp, lr)\n",
    "            results_di_imp.append({\n",
    "                'hidden_size': hs,\n",
    "                'dropout': dp,\n",
    "                'lr': lr,\n",
    "                'loss': loss\n",
    "            })\n",
    "            print(f\"Diésel Imp | hs={hs}, dp={dp}, lr={lr} → loss={loss:.2e}\")\n",
    "\n",
    "df_results_di_imp = pd.DataFrame(results_di_imp).sort_values('loss')\n",
    "print(\"\\nMejores hiperparámetros para Diésel Importaciones:\")\n",
    "display(df_results_di_imp.head())"
   ]
  },
  {
   "cell_type": "markdown",
   "id": "707d07dd",
   "metadata": {},
   "source": [
    "## Entrenamiento LSTM – Gasolina Superior Consumo"
   ]
  },
  {
   "cell_type": "code",
   "execution_count": 29,
   "id": "8052ad6f",
   "metadata": {},
   "outputs": [
    {
     "name": "stderr",
     "output_type": "stream",
     "text": [
      "c:\\Users\\diego\\AppData\\Local\\Programs\\Python\\Python312\\Lib\\site-packages\\torch\\nn\\modules\\rnn.py:123: UserWarning: dropout option adds dropout after all but last recurrent layer, so non-zero dropout expects num_layers greater than 1, but got dropout=0.2 and num_layers=1\n",
      "  warnings.warn(\n"
     ]
    },
    {
     "name": "stdout",
     "output_type": "stream",
     "text": [
      "Entrenando LSTM para Gasolina Superior Consumo…\n",
      "Epoch 10, Loss: 298499047424.000000\n",
      "Epoch 20, Loss: 298498981888.000000\n",
      "Epoch 30, Loss: 298498850816.000000\n",
      "Epoch 40, Loss: 298498719744.000000\n",
      "Epoch 50, Loss: 298498588672.000000\n"
     ]
    },
    {
     "data": {
      "image/png": "[encoded data removed]",
      "text/plain": [
       "<Figure size 800x400 with 1 Axes>"
      ]
     },
     "metadata": {},
     "output_type": "display_data"
    }
   ],
   "source": [
    "ts_gs_cons = df_cons.set_index('fecha')['gasolina superior'] \\\n",
    "                   .resample('M').mean().dropna()\n",
    "\n",
    "train_gs_cons = ts_gs_cons[:'2023-12-31']\n",
    "test_gs_cons  = ts_gs_cons['2024-01-31':]\n",
    "\n",
    "window_size = 12\n",
    "X_gs_cons, y_gs_cons = create_dataset(train_gs_cons.values, window_size)\n",
    "\n",
    "device = torch.device('cuda' if torch.cuda.is_available() else 'cpu')\n",
    "tensor_X_gs_cons = torch.tensor(X_gs_cons, dtype=torch.float32).to(device)\n",
    "tensor_y_gs_cons = torch.tensor(y_gs_cons, dtype=torch.float32).to(device)\n",
    "\n",
    "batch_size = 16\n",
    "loader_gs_cons = DataLoader(\n",
    "    TensorDataset(tensor_X_gs_cons, tensor_y_gs_cons),\n",
    "    batch_size=batch_size,\n",
    "    shuffle=True\n",
    ")\n",
    "\n",
    "model_gs_cons = LSTMModel(hidden_size=32, dropout=0.2).to(device)\n",
    "criterion     = nn.MSELoss()\n",
    "opt_gs_cons   = torch.optim.Adam(model_gs_cons.parameters(), lr=1e-3)\n",
    "\n",
    "def train_model(model, optimizer, loader, epochs=50):\n",
    "    model.train()\n",
    "    history = []\n",
    "    for epoch in range(1, epochs+1):\n",
    "        epoch_loss = 0.0\n",
    "        for xb, yb in loader:\n",
    "            optimizer.zero_grad()\n",
    "            preds = model(xb)\n",
    "            loss = criterion(preds, yb)\n",
    "            loss.backward()\n",
    "            optimizer.step()\n",
    "            epoch_loss += loss.item() * xb.size(0)\n",
    "        avg = epoch_loss / len(loader.dataset)\n",
    "        history.append(avg)\n",
    "        if epoch % 10 == 0:\n",
    "            print(f\"Epoch {epoch}, Loss: {avg:.6f}\")\n",
    "    return history\n",
    "\n",
    "print(\"Entrenando LSTM para Gasolina Superior Consumo…\")\n",
    "history_gs_cons = train_model(model_gs_cons, opt_gs_cons, loader_gs_cons, epochs=50)\n",
    "\n",
    "plt.figure(figsize=(8,4))\n",
    "plt.plot(history_gs_cons, label='Pérdida GS Cons')\n",
    "plt.title('Entrenamiento LSTM – Gasolina Superior Consumo')\n",
    "plt.xlabel('Época')\n",
    "plt.ylabel('MSE Loss')\n",
    "plt.legend()\n",
    "plt.show()"
   ]
  },
  {
   "cell_type": "markdown",
   "id": "1a59dcac",
   "metadata": {},
   "source": [
    "### Hyperparameter Tuning – Gasolina Superior Consumo"
   ]
  },
  {
   "cell_type": "code",
   "execution_count": 30,
   "id": "3d65a8b9",
   "metadata": {},
   "outputs": [
    {
     "name": "stdout",
     "output_type": "stream",
     "text": [
      "Realizando hyperparameter tuning para GS Consumo…\n",
      "GS Cons | hs=16, dp=0.1, lr=0.001 → loss=2.98e+11\n"
     ]
    },
    {
     "name": "stderr",
     "output_type": "stream",
     "text": [
      "c:\\Users\\diego\\AppData\\Local\\Programs\\Python\\Python312\\Lib\\site-packages\\torch\\nn\\modules\\rnn.py:123: UserWarning: dropout option adds dropout after all but last recurrent layer, so non-zero dropout expects num_layers greater than 1, but got dropout=0.1 and num_layers=1\n",
      "  warnings.warn(\n"
     ]
    },
    {
     "name": "stdout",
     "output_type": "stream",
     "text": [
      "GS Cons | hs=16, dp=0.1, lr=0.0001 → loss=2.98e+11\n",
      "GS Cons | hs=16, dp=0.2, lr=0.001 → loss=2.98e+11\n",
      "GS Cons | hs=16, dp=0.2, lr=0.0001 → loss=2.98e+11\n"
     ]
    },
    {
     "name": "stderr",
     "output_type": "stream",
     "text": [
      "c:\\Users\\diego\\AppData\\Local\\Programs\\Python\\Python312\\Lib\\site-packages\\torch\\nn\\modules\\rnn.py:123: UserWarning: dropout option adds dropout after all but last recurrent layer, so non-zero dropout expects num_layers greater than 1, but got dropout=0.3 and num_layers=1\n",
      "  warnings.warn(\n"
     ]
    },
    {
     "name": "stdout",
     "output_type": "stream",
     "text": [
      "GS Cons | hs=16, dp=0.3, lr=0.001 → loss=2.98e+11\n",
      "GS Cons | hs=16, dp=0.3, lr=0.0001 → loss=2.98e+11\n",
      "GS Cons | hs=32, dp=0.1, lr=0.001 → loss=2.98e+11\n",
      "GS Cons | hs=32, dp=0.1, lr=0.0001 → loss=2.98e+11\n",
      "GS Cons | hs=32, dp=0.2, lr=0.001 → loss=2.98e+11\n",
      "GS Cons | hs=32, dp=0.2, lr=0.0001 → loss=2.98e+11\n",
      "GS Cons | hs=32, dp=0.3, lr=0.001 → loss=2.98e+11\n",
      "GS Cons | hs=32, dp=0.3, lr=0.0001 → loss=2.98e+11\n",
      "GS Cons | hs=64, dp=0.1, lr=0.001 → loss=2.98e+11\n",
      "GS Cons | hs=64, dp=0.1, lr=0.0001 → loss=2.98e+11\n",
      "GS Cons | hs=64, dp=0.2, lr=0.001 → loss=2.98e+11\n",
      "GS Cons | hs=64, dp=0.2, lr=0.0001 → loss=2.98e+11\n",
      "GS Cons | hs=64, dp=0.3, lr=0.001 → loss=2.98e+11\n",
      "GS Cons | hs=64, dp=0.3, lr=0.0001 → loss=2.98e+11\n",
      "\n",
      "Mejores hiperparámetros para GS Consumo:\n"
     ]
    },
    {
     "data": {
      "text/html": [
       "<div>\n",
       "<style scoped>\n",
       "    .dataframe tbody tr th:only-of-type {\n",
       "        vertical-align: middle;\n",
       "    }\n",
       "\n",
       "    .dataframe tbody tr th {\n",
       "        vertical-align: top;\n",
       "    }\n",
       "\n",
       "    .dataframe thead th {\n",
       "        text-align: right;\n",
       "    }\n",
       "</style>\n",
       "<table border=\"1\" class=\"dataframe\">\n",
       "  <thead>\n",
       "    <tr style=\"text-align: right;\">\n",
       "      <th></th>\n",
       "      <th>hidden_size</th>\n",
       "      <th>dropout</th>\n",
       "      <th>lr</th>\n",
       "      <th>loss</th>\n",
       "    </tr>\n",
       "  </thead>\n",
       "  <tbody>\n",
       "    <tr>\n",
       "      <th>16</th>\n",
       "      <td>64</td>\n",
       "      <td>0.3</td>\n",
       "      <td>0.0010</td>\n",
       "      <td>2.984978e+11</td>\n",
       "    </tr>\n",
       "    <tr>\n",
       "      <th>4</th>\n",
       "      <td>16</td>\n",
       "      <td>0.3</td>\n",
       "      <td>0.0010</td>\n",
       "      <td>2.984981e+11</td>\n",
       "    </tr>\n",
       "    <tr>\n",
       "      <th>3</th>\n",
       "      <td>16</td>\n",
       "      <td>0.2</td>\n",
       "      <td>0.0001</td>\n",
       "      <td>2.984983e+11</td>\n",
       "    </tr>\n",
       "    <tr>\n",
       "      <th>2</th>\n",
       "      <td>16</td>\n",
       "      <td>0.2</td>\n",
       "      <td>0.0010</td>\n",
       "      <td>2.984983e+11</td>\n",
       "    </tr>\n",
       "    <tr>\n",
       "      <th>11</th>\n",
       "      <td>32</td>\n",
       "      <td>0.3</td>\n",
       "      <td>0.0001</td>\n",
       "      <td>2.984984e+11</td>\n",
       "    </tr>\n",
       "  </tbody>\n",
       "</table>\n",
       "</div>"
      ],
      "text/plain": [
       "    hidden_size  dropout      lr          loss\n",
       "16           64      0.3  0.0010  2.984978e+11\n",
       "4            16      0.3  0.0010  2.984981e+11\n",
       "3            16      0.2  0.0001  2.984983e+11\n",
       "2            16      0.2  0.0010  2.984983e+11\n",
       "11           32      0.3  0.0001  2.984984e+11"
      ]
     },
     "metadata": {},
     "output_type": "display_data"
    }
   ],
   "source": [
    "hidden_sizes = [16, 32, 64]\n",
    "dropouts     = [0.1, 0.2, 0.3]\n",
    "lrs          = [1e-3, 1e-4]\n",
    "epochs_tune  = 20\n",
    "\n",
    "def tune_lstm_gs_cons(hidden_size, dropout, lr):\n",
    "    model = LSTMModel(hidden_size=hidden_size, dropout=dropout).to(device)\n",
    "    opt   = torch.optim.Adam(model.parameters(), lr=lr)\n",
    "    model.train()\n",
    "    for _ in range(epochs_tune):\n",
    "        for xb, yb in loader_gs_cons:\n",
    "            opt.zero_grad()\n",
    "            loss = criterion(model(xb), yb)\n",
    "            loss.backward()\n",
    "            opt.step()\n",
    "    model.eval()\n",
    "    with torch.no_grad():\n",
    "        preds = model(tensor_X_gs_cons)\n",
    "        return criterion(preds, tensor_y_gs_cons).item()\n",
    "\n",
    "print(\"Realizando hyperparameter tuning para GS Consumo…\")\n",
    "results_gs_cons = []\n",
    "for hs in hidden_sizes:\n",
    "    for dp in dropouts:\n",
    "        for lr in lrs:\n",
    "            loss = tune_lstm_gs_cons(hs, dp, lr)\n",
    "            results_gs_cons.append({\n",
    "                'hidden_size': hs,\n",
    "                'dropout': dp,\n",
    "                'lr': lr,\n",
    "                'loss': loss\n",
    "            })\n",
    "            print(f\"GS Cons | hs={hs}, dp={dp}, lr={lr} → loss={loss:.2e}\")\n",
    "\n",
    "df_results_gs_cons = pd.DataFrame(results_gs_cons).sort_values('loss')\n",
    "print(\"\\nMejores hiperparámetros para GS Consumo:\")\n",
    "display(df_results_gs_cons.head())"
   ]
  },
  {
   "cell_type": "markdown",
   "id": "66b32011",
   "metadata": {},
   "source": [
    "## Entrenamiento LSTM – Diésel Bajo Azufre Consumo"
   ]
  },
  {
   "cell_type": "code",
   "execution_count": 31,
   "id": "602e1476",
   "metadata": {},
   "outputs": [
    {
     "name": "stderr",
     "output_type": "stream",
     "text": [
      "c:\\Users\\diego\\AppData\\Local\\Programs\\Python\\Python312\\Lib\\site-packages\\torch\\nn\\modules\\rnn.py:123: UserWarning: dropout option adds dropout after all but last recurrent layer, so non-zero dropout expects num_layers greater than 1, but got dropout=0.2 and num_layers=1\n",
      "  warnings.warn(\n"
     ]
    },
    {
     "name": "stdout",
     "output_type": "stream",
     "text": [
      "Entrenando LSTM para Diésel Bajo Azufre Consumo…\n",
      "Epoch 10, Loss: 699998339072.000000\n",
      "Epoch 20, Loss: 699998208000.000000\n",
      "Epoch 30, Loss: 699998011392.000000\n",
      "Epoch 40, Loss: 699997683712.000000\n",
      "Epoch 50, Loss: 699997290496.000000\n"
     ]
    },
    {
     "data": {
      "image/png": "[encoded data removed]",
      "text/plain": [
       "<Figure size 800x400 with 1 Axes>"
      ]
     },
     "metadata": {},
     "output_type": "display_data"
    }
   ],
   "source": [
    "ts_di_cons = df_cons.set_index('fecha')['diesel bajo azufre'] \\\n",
    "                   .resample('M').mean().dropna()\n",
    "\n",
    "train_di_cons = ts_di_cons[:'2023-12-31']\n",
    "test_di_cons  = ts_di_cons['2024-01-31':]\n",
    "\n",
    "window_size = 12\n",
    "X_di_cons, y_di_cons = create_dataset(train_di_cons.values, window_size)\n",
    "\n",
    "device = torch.device('cuda' if torch.cuda.is_available() else 'cpu')\n",
    "tensor_X_di_cons = torch.tensor(X_di_cons, dtype=torch.float32).to(device)\n",
    "tensor_y_di_cons = torch.tensor(y_di_cons, dtype=torch.float32).to(device)\n",
    "\n",
    "batch_size = 16\n",
    "loader_di_cons = DataLoader(\n",
    "    TensorDataset(tensor_X_di_cons, tensor_y_di_cons),\n",
    "    batch_size=batch_size,\n",
    "    shuffle=True\n",
    ")\n",
    "\n",
    "model_di_cons = LSTMModel(hidden_size=32, dropout=0.2).to(device)\n",
    "criterion     = nn.MSELoss()\n",
    "opt_di_cons   = torch.optim.Adam(model_di_cons.parameters(), lr=1e-3)\n",
    "\n",
    "def train_model(model, optimizer, loader, epochs=50):\n",
    "    model.train()\n",
    "    history = []\n",
    "    for epoch in range(1, epochs+1):\n",
    "        epoch_loss = 0.0\n",
    "        for xb, yb in loader:\n",
    "            optimizer.zero_grad()\n",
    "            preds = model(xb)\n",
    "            loss = criterion(preds, yb)\n",
    "            loss.backward()\n",
    "            optimizer.step()\n",
    "            epoch_loss += loss.item() * xb.size(0)\n",
    "        avg = epoch_loss / len(loader.dataset)\n",
    "        history.append(avg)\n",
    "        if epoch % 10 == 0:\n",
    "            print(f\"Epoch {epoch}, Loss: {avg:.6f}\")\n",
    "    return history\n",
    "\n",
    "print(\"Entrenando LSTM para Diésel Bajo Azufre Consumo…\")\n",
    "history_di_cons = train_model(model_di_cons, opt_di_cons, loader_di_cons, epochs=50)\n",
    "\n",
    "plt.figure(figsize=(8,4))\n",
    "plt.plot(history_di_cons, label='Pérdida Diésel Cons')\n",
    "plt.title('Entrenamiento LSTM – Diésel Bajo Azufre Consumo')\n",
    "plt.xlabel('Época')\n",
    "plt.ylabel('MSE Loss')\n",
    "plt.legend()\n",
    "plt.show()"
   ]
  },
  {
   "cell_type": "code",
   "execution_count": 32,
   "id": "fb539edd",
   "metadata": {},
   "outputs": [
    {
     "name": "stdout",
     "output_type": "stream",
     "text": [
      "Realizando hyperparameter tuning para Diésel Bajo Azufre Consumo…\n",
      "Diésel Cons | hs=16, dp=0.1, lr=0.001 → loss=7.00e+11\n"
     ]
    },
    {
     "name": "stderr",
     "output_type": "stream",
     "text": [
      "c:\\Users\\diego\\AppData\\Local\\Programs\\Python\\Python312\\Lib\\site-packages\\torch\\nn\\modules\\rnn.py:123: UserWarning: dropout option adds dropout after all but last recurrent layer, so non-zero dropout expects num_layers greater than 1, but got dropout=0.1 and num_layers=1\n",
      "  warnings.warn(\n"
     ]
    },
    {
     "name": "stdout",
     "output_type": "stream",
     "text": [
      "Diésel Cons | hs=16, dp=0.1, lr=0.0001 → loss=7.00e+11\n",
      "Diésel Cons | hs=16, dp=0.2, lr=0.001 → loss=7.00e+11\n",
      "Diésel Cons | hs=16, dp=0.2, lr=0.0001 → loss=7.00e+11\n"
     ]
    },
    {
     "name": "stderr",
     "output_type": "stream",
     "text": [
      "c:\\Users\\diego\\AppData\\Local\\Programs\\Python\\Python312\\Lib\\site-packages\\torch\\nn\\modules\\rnn.py:123: UserWarning: dropout option adds dropout after all but last recurrent layer, so non-zero dropout expects num_layers greater than 1, but got dropout=0.3 and num_layers=1\n",
      "  warnings.warn(\n"
     ]
    },
    {
     "name": "stdout",
     "output_type": "stream",
     "text": [
      "Diésel Cons | hs=16, dp=0.3, lr=0.001 → loss=7.00e+11\n",
      "Diésel Cons | hs=16, dp=0.3, lr=0.0001 → loss=7.00e+11\n",
      "Diésel Cons | hs=32, dp=0.1, lr=0.001 → loss=7.00e+11\n",
      "Diésel Cons | hs=32, dp=0.1, lr=0.0001 → loss=7.00e+11\n",
      "Diésel Cons | hs=32, dp=0.2, lr=0.001 → loss=7.00e+11\n",
      "Diésel Cons | hs=32, dp=0.2, lr=0.0001 → loss=7.00e+11\n",
      "Diésel Cons | hs=32, dp=0.3, lr=0.001 → loss=7.00e+11\n",
      "Diésel Cons | hs=32, dp=0.3, lr=0.0001 → loss=7.00e+11\n",
      "Diésel Cons | hs=64, dp=0.1, lr=0.001 → loss=7.00e+11\n",
      "Diésel Cons | hs=64, dp=0.1, lr=0.0001 → loss=7.00e+11\n",
      "Diésel Cons | hs=64, dp=0.2, lr=0.001 → loss=7.00e+11\n",
      "Diésel Cons | hs=64, dp=0.2, lr=0.0001 → loss=7.00e+11\n",
      "Diésel Cons | hs=64, dp=0.3, lr=0.001 → loss=7.00e+11\n",
      "Diésel Cons | hs=64, dp=0.3, lr=0.0001 → loss=7.00e+11\n",
      "\n",
      "Mejores hiperparámetros para Diésel Bajo Azufre Consumo:\n"
     ]
    },
    {
     "data": {
      "text/html": [
       "<div>\n",
       "<style scoped>\n",
       "    .dataframe tbody tr th:only-of-type {\n",
       "        vertical-align: middle;\n",
       "    }\n",
       "\n",
       "    .dataframe tbody tr th {\n",
       "        vertical-align: top;\n",
       "    }\n",
       "\n",
       "    .dataframe thead th {\n",
       "        text-align: right;\n",
       "    }\n",
       "</style>\n",
       "<table border=\"1\" class=\"dataframe\">\n",
       "  <thead>\n",
       "    <tr style=\"text-align: right;\">\n",
       "      <th></th>\n",
       "      <th>hidden_size</th>\n",
       "      <th>dropout</th>\n",
       "      <th>lr</th>\n",
       "      <th>loss</th>\n",
       "    </tr>\n",
       "  </thead>\n",
       "  <tbody>\n",
       "    <tr>\n",
       "      <th>14</th>\n",
       "      <td>64</td>\n",
       "      <td>0.2</td>\n",
       "      <td>0.001</td>\n",
       "      <td>6.999976e+11</td>\n",
       "    </tr>\n",
       "    <tr>\n",
       "      <th>4</th>\n",
       "      <td>16</td>\n",
       "      <td>0.3</td>\n",
       "      <td>0.001</td>\n",
       "      <td>6.999976e+11</td>\n",
       "    </tr>\n",
       "    <tr>\n",
       "      <th>2</th>\n",
       "      <td>16</td>\n",
       "      <td>0.2</td>\n",
       "      <td>0.001</td>\n",
       "      <td>6.999977e+11</td>\n",
       "    </tr>\n",
       "    <tr>\n",
       "      <th>8</th>\n",
       "      <td>32</td>\n",
       "      <td>0.2</td>\n",
       "      <td>0.001</td>\n",
       "      <td>6.999979e+11</td>\n",
       "    </tr>\n",
       "    <tr>\n",
       "      <th>12</th>\n",
       "      <td>64</td>\n",
       "      <td>0.1</td>\n",
       "      <td>0.001</td>\n",
       "      <td>6.999979e+11</td>\n",
       "    </tr>\n",
       "  </tbody>\n",
       "</table>\n",
       "</div>"
      ],
      "text/plain": [
       "    hidden_size  dropout     lr          loss\n",
       "14           64      0.2  0.001  6.999976e+11\n",
       "4            16      0.3  0.001  6.999976e+11\n",
       "2            16      0.2  0.001  6.999977e+11\n",
       "8            32      0.2  0.001  6.999979e+11\n",
       "12           64      0.1  0.001  6.999979e+11"
      ]
     },
     "metadata": {},
     "output_type": "display_data"
    }
   ],
   "source": [
    "hidden_sizes = [16, 32, 64]\n",
    "dropouts     = [0.1, 0.2, 0.3]\n",
    "lrs          = [1e-3, 1e-4]\n",
    "epochs_tune  = 20\n",
    "\n",
    "def tune_lstm_di_cons(hidden_size, dropout, lr):\n",
    "    model = LSTMModel(hidden_size=hidden_size, dropout=dropout).to(device)\n",
    "    opt   = torch.optim.Adam(model.parameters(), lr=lr)\n",
    "    model.train()\n",
    "    for _ in range(epochs_tune):\n",
    "        for xb, yb in loader_di_cons:\n",
    "            opt.zero_grad()\n",
    "            loss = criterion(model(xb), yb)\n",
    "            loss.backward()\n",
    "            opt.step()\n",
    "    model.eval()\n",
    "    with torch.no_grad():\n",
    "        preds = model(tensor_X_di_cons)\n",
    "        return criterion(preds, tensor_y_di_cons).item()\n",
    "\n",
    "print(\"Realizando hyperparameter tuning para Diésel Bajo Azufre Consumo…\")\n",
    "results_di_cons = []\n",
    "for hs in hidden_sizes:\n",
    "    for dp in dropouts:\n",
    "        for lr in lrs:\n",
    "            loss = tune_lstm_di_cons(hs, dp, lr)\n",
    "            results_di_cons.append({\n",
    "                'hidden_size': hs,\n",
    "                'dropout': dp,\n",
    "                'lr': lr,\n",
    "                'loss': loss\n",
    "            })\n",
    "            print(f\"Diésel Cons | hs={hs}, dp={dp}, lr={lr} → loss={loss:.2e}\")\n",
    "\n",
    "df_results_di_cons = pd.DataFrame(results_di_cons).sort_values('loss')\n",
    "print(\"\\nMejores hiperparámetros para Diésel Bajo Azufre Consumo:\")\n",
    "display(df_results_di_cons.head())"
   ]
  },
  {
   "cell_type": "markdown",
   "id": "b190a5d4",
   "metadata": {},
   "source": [
    "## Modelos Finales y Predicciones"
   ]
  },
  {
   "cell_type": "code",
   "execution_count": null,
   "id": "0cbf28fe",
   "metadata": {},
   "outputs": [],
   "source": [
    "from sklearn.preprocessing import MinMaxScaler\n",
    "\n",
    "# Preparar escaladores\n",
    "scaler_ir = MinMaxScaler()\n",
    "scaler_cr = MinMaxScaler()\n",
    "scaler_ir.fit(train_ts_ir.values.reshape(-1, 1))\n",
    "scaler_cr.fit(train_ts_cr.values.reshape(-1, 1))\n",
    "\n",
    "model_ir_final = LSTMModel(hidden_size=32, dropout=0.1).to(device)\n",
    "opt_ir_final = torch.optim.Adam(model_ir_final.parameters(), lr=1e-3)\n",
    "\n",
    "model_cr_final = LSTMModel(hidden_size=16, dropout=0.2).to(device)\n",
    "opt_cr_final = torch.optim.Adam(model_cr_final.parameters(), lr=1e-3)\n",
    "\n",
    "print(\"Entrenando modelo final IR...\")\n",
    "history_ir_final = train_model(model_ir_final, opt_ir_final, loader_ir, epochs=50)\n",
    "\n",
    "print(\"Entrenando modelo final CR...\")\n",
    "history_cr_final = train_model(model_cr_final, opt_cr_final, loader_cr, epochs=50)\n",
    "\n",
    "fig, (ax1, ax2) = plt.subplots(1, 2, figsize=(15, 4))\n",
    "\n",
    "ax1.plot(history_ir_final, label='Train IR final')\n",
    "ax1.set_title('Pérdida IR Final (50 épocas)')\n",
    "ax1.set_xlabel('Época')\n",
    "ax1.set_ylabel('MSE Loss')\n",
    "ax1.legend()\n",
    "\n",
    "ax2.plot(history_cr_final, label='Train CR final')\n",
    "ax2.set_title('Pérdida CR Final (50 épocas)')\n",
    "ax2.set_xlabel('Época')\n",
    "ax2.set_ylabel('MSE Loss')\n",
    "ax2.legend()\n",
    "\n",
    "plt.tight_layout()\n",
    "plt.show()"
   ]
  },
  {
   "cell_type": "code",
   "execution_count": null,
   "id": "56c471ba",
   "metadata": {},
   "outputs": [],
   "source": [
    "### Predicciones para Enero 2024\n",
    "\n",
    "model_ir_final.eval()\n",
    "model_cr_final.eval()\n",
    "\n",
    "last_window_ir = torch.tensor(train_ts_ir.values[-12:].reshape(1, 12, 1),\n",
    "                              dtype=torch.float32).to(device)\n",
    "with torch.no_grad():\n",
    "    pred_ir = model_ir_final(last_window_ir).item()\n",
    "\n",
    "pred_ir_value = pred_ir\n",
    "\n",
    "last_window_cr = torch.tensor(train_ts_cr.values[-12:].reshape(1, 12, 1),\n",
    "                              dtype=torch.float32).to(device)\n",
    "with torch.no_grad():\n",
    "    pred_cr = model_cr_final(last_window_cr).item()\n",
    "\n",
    "pred_cr_value = pred_cr\n",
    "\n",
    "print(\"=== PREDICCIONES PARA ENERO 2024 ===\")\n",
    "print(f\"Predicción IR (Importaciones): {pred_ir_value:.2f}\")\n",
    "print(f\"Verdadero   IR (Importaciones): {test_ts_ir.iloc[0]:.2f}\")\n",
    "print(f\"Error IR: {abs(pred_ir_value - test_ts_ir.iloc[0]):.2f}\")\n",
    "print()\n",
    "print(f\"Predicción CR (Consumos): {pred_cr_value:.2f}\")\n",
    "print(f\"Verdadero   CR (Consumos): {test_ts_cr.iloc[0]:.2f}\")\n",
    "print(f\"Error CR: {abs(pred_cr_value - test_ts_cr.iloc[0]):.2f}\")\n",
    "\n",
    "from sklearn.metrics import mean_absolute_error, mean_squared_error\n",
    "\n",
    "mae_ir = mean_absolute_error([test_ts_ir.iloc[0]], [pred_ir_value])\n",
    "mse_ir = mean_squared_error([test_ts_ir.iloc[0]], [pred_ir_value])\n",
    "mae_cr = mean_absolute_error([test_ts_cr.iloc[0]], [pred_cr_value])\n",
    "mse_cr = mean_squared_error([test_ts_cr.iloc[0]], [pred_cr_value])\n",
    "\n",
    "print(\"\\n=== MÉTRICAS DE ERROR ===\")\n",
    "print(f\"IR - MAE: {mae_ir:.2f}, MSE: {mse_ir:.2f}, RMSE: {mse_ir**0.5:.2f}\")\n",
    "print(f\"CR - MAE: {mae_cr:.2f}, MSE: {mse_cr:.2f}, RMSE: {mse_cr**0.5:.2f}\")"
   ]
  },
  {
   "cell_type": "markdown",
   "id": "bde127a5",
   "metadata": {},
   "source": [
    "### Comparación final de modelos ARIMA/Prophet"
   ]
  },
  {
   "cell_type": "markdown",
   "id": "434f2804",
   "metadata": {},
   "source": [
    "Al incorporar los tres enfoques (ARIMA, Prophet y LSTM), queda claro que la serie de **consumo de gasolina regular** no solo es más “predecible” en términos generales, sino también que el mejor modelo varía según la métrica:\n",
    "\n",
    "| Modelo      | Serie                 |       RMSE |   MAPE |\n",
    "| :---------- | :-------------------- | ---------: | -----: |\n",
    "| **ARIMA**   | Importaciones Regular |     94 099 | 7.07 % |\n",
    "|             | Consumos Regular      |     49 492 | 4.39 % |\n",
    "| **Prophet** | Importaciones Regular |    107 492 | 9.88 % |\n",
    "|             | Consumos Regular      |     38 262 | 3.38 % |\n",
    "| **LSTM**    | Importaciones Regular | \\~870 465¹ |      — |\n",
    "|             | Consumos Regular      | \\~855 349¹ |      — |\n",
    "\n",
    "\n",
    "1. **Importaciones Regular**\n",
    "\n",
    "   * El **ARIMA** obtuvo aquí un RMSE mucho menor que Prophet (≈ 94 k vs 107 k).\n",
    "   * Sin embargo, el **LSTM**, en el ejercicio puntual, quedó con un error gigantesco (\\~ 870 k) porque no estaba escalado ni entrenado con la misma granularidad de validación—es decir, para series con grandes rangos absolutos ARIMA/Prophet manejan mejor la escala sin normalizar.\n",
    "\n",
    "2. **Consumos Regular**\n",
    "\n",
    "   * El **Prophet** rindió ligeramente mejor que ARIMA (≈ 38 k vs 49 k), ambos con MAPE por debajo del 5 %.\n",
    "   * El **LSTM** también arroja un error absoluto menor en consumos (\\~ 855 k vs \\~ 870 k en importaciones), aunque, de nuevo, la comparación absoluta con ARIMA/Prophet no es directa por diferencias de escalado.\n"
   ]
  }
 ],
 "metadata": {
  "kernelspec": {
   "display_name": "Python 3",
   "language": "python",
   "name": "python3"
  },
  "language_info": {
   "codemirror_mode": {
    "name": "ipython",
    "version": 3
   },
   "file_extension": ".py",
   "mimetype": "text/x-python",
   "name": "python",
   "nbconvert_exporter": "python",
   "pygments_lexer": "ipython3",
   "version": "3.12.4"
  }
 },
 "nbformat": 4,
 "nbformat_minor": 5
}
